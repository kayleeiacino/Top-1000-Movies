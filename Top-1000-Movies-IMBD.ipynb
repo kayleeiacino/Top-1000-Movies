{
 "cells": [
  {
   "cell_type": "code",
   "execution_count": 13,
   "id": "5de800db-1534-4859-b42b-48b5e6e967e1",
   "metadata": {},
   "outputs": [],
   "source": [
    "import pandas as pd\n",
    "import matplotlib.pyplot as plt\n",
    "import seaborn as sns\n"
   ]
  },
  {
   "cell_type": "code",
   "execution_count": 20,
   "id": "f046fcc1-592b-4eda-a996-2f27760fc7b3",
   "metadata": {
    "scrolled": true
   },
   "outputs": [
    {
     "name": "stdout",
     "output_type": "stream",
     "text": [
      "Collecting kaggle\n",
      "  Downloading kaggle-1.6.17.tar.gz (82 kB)\n",
      "  Preparing metadata (setup.py): started\n",
      "  Preparing metadata (setup.py): finished with status 'done'\n",
      "Requirement already satisfied: six>=1.10 in c:\\users\\kayle\\anaconda3\\lib\\site-packages (from kaggle) (1.16.0)\n",
      "Requirement already satisfied: certifi>=2023.7.22 in c:\\users\\kayle\\anaconda3\\lib\\site-packages (from kaggle) (2024.8.30)\n",
      "Requirement already satisfied: python-dateutil in c:\\users\\kayle\\anaconda3\\lib\\site-packages (from kaggle) (2.9.0.post0)\n",
      "Requirement already satisfied: requests in c:\\users\\kayle\\anaconda3\\lib\\site-packages (from kaggle) (2.32.3)\n",
      "Requirement already satisfied: tqdm in c:\\users\\kayle\\anaconda3\\lib\\site-packages (from kaggle) (4.66.5)\n",
      "Requirement already satisfied: python-slugify in c:\\users\\kayle\\anaconda3\\lib\\site-packages (from kaggle) (5.0.2)\n",
      "Requirement already satisfied: urllib3 in c:\\users\\kayle\\anaconda3\\lib\\site-packages (from kaggle) (2.2.3)\n",
      "Requirement already satisfied: bleach in c:\\users\\kayle\\anaconda3\\lib\\site-packages (from kaggle) (4.1.0)\n",
      "Requirement already satisfied: packaging in c:\\users\\kayle\\anaconda3\\lib\\site-packages (from bleach->kaggle) (24.1)\n",
      "Requirement already satisfied: webencodings in c:\\users\\kayle\\anaconda3\\lib\\site-packages (from bleach->kaggle) (0.5.1)\n",
      "Requirement already satisfied: text-unidecode>=1.3 in c:\\users\\kayle\\anaconda3\\lib\\site-packages (from python-slugify->kaggle) (1.3)\n",
      "Requirement already satisfied: charset-normalizer<4,>=2 in c:\\users\\kayle\\anaconda3\\lib\\site-packages (from requests->kaggle) (3.3.2)\n",
      "Requirement already satisfied: idna<4,>=2.5 in c:\\users\\kayle\\anaconda3\\lib\\site-packages (from requests->kaggle) (3.7)\n",
      "Requirement already satisfied: colorama in c:\\users\\kayle\\anaconda3\\lib\\site-packages (from tqdm->kaggle) (0.4.6)\n",
      "Building wheels for collected packages: kaggle\n",
      "  Building wheel for kaggle (setup.py): started\n",
      "  Building wheel for kaggle (setup.py): finished with status 'done'\n",
      "  Created wheel for kaggle: filename=kaggle-1.6.17-py3-none-any.whl size=105797 sha256=65ce9bc821b8298eb48dee071493faeb4fd397b140ca13925730b1d0aa137bd2\n",
      "  Stored in directory: c:\\users\\kayle\\appdata\\local\\pip\\cache\\wheels\\46\\d2\\26\\84d0a1acdb9c6baccf7d28cf06962ec80529fe1ad938489983\n",
      "Successfully built kaggle\n",
      "Installing collected packages: kaggle\n",
      "Successfully installed kaggle-1.6.17\n"
     ]
    }
   ],
   "source": [
    "!pip install kaggle"
   ]
  },
  {
   "cell_type": "code",
   "execution_count": 1,
   "id": "4e2516f7-2c22-4a94-bed8-febb13e7dfbd",
   "metadata": {},
   "outputs": [
    {
     "name": "stdout",
     "output_type": "stream",
     "text": [
      "ref                                                         title                                         size  lastUpdated          downloadCount  voteCount  usabilityRating  \n",
      "----------------------------------------------------------  -------------------------------------------  -----  -------------------  -------------  ---------  ---------------  \n",
      "bhadramohit/customer-shopping-latest-trends-dataset         Customer Shopping (Latest Trends) Dataset     76KB  2024-11-23 15:26:12          12729        249  1.0              \n",
      "b'denkuznetz/taxi-price-prediction                            Taxi Price Regression \\xf0\\x9f\\x9a\\x95                       20KB  2024-12-13 09:29:17           1198         30  1.0              '\n",
      "hopesb/student-depression-dataset                           Student Depression Dataset.                  454KB  2024-11-22 17:56:03           9351        125  1.0              \n",
      "gauthamvijayaraj/spotify-tracks-dataset-updated-every-week  Spotify Tracks Dataset (Updated every week)    5MB  2024-12-09 18:00:01           1639         34  1.0              \n",
      "mujtabamatin/air-quality-and-pollution-assessment           Air Quality and Pollution Assessment          84KB  2024-12-04 15:29:51           4482         81  1.0              \n",
      "b'denkuznetz/housing-prices-regression                        Housing Prices Regression \\xf0\\x9f\\x8f\\x98\\xef\\xb8\\x8f                  24KB  2024-12-10 15:44:34           1379         27  1.0              '\n",
      "malaiarasugraj/global-health-statistics                     Global Health Statistics                      44MB  2024-11-27 10:52:27           3922         47  1.0              \n",
      "steve1215rogg/student-lifestyle-dataset                     student lifestyle dataset                     22KB  2024-11-11 19:11:28          11763        157  1.0              \n",
      "qubdidata/auto-market-dataset                               Dataset For Car Price Prediction              10MB  2024-12-08 15:08:44           1300         31  1.0              \n",
      "zafarali27/netflix-movies-and-tv-shows                      Netflix Movies and TV Shows                   28KB  2024-11-23 07:53:10           3122         53  1.0              \n",
      "ashutosh598/shoes-price-for-various-brands                  Shoes price for various brands                32KB  2024-12-03 21:28:48           1325         25  1.0              \n",
      "srisaisuhassanisetty/fake-job-postings                      Fake Job Postings                            702KB  2024-12-02 23:32:56            726         23  0.9411765        \n",
      "steve1215rogg/e-commerce-dataset                            E-Commerce Dataset                            90KB  2024-11-22 22:10:02           4568         60  1.0              \n",
      "b'denkuznetz/traffic-accident-prediction                      Traffic Accident Prediction \\xf0\\x9f\\x92\\xa5\\xf0\\x9f\\x9a\\x97                10KB  2024-12-11 11:04:47            879         24  1.0              '\n",
      "b'itzusama/amazon-stock-market-data-2015-2024                 Amazon Stock Market Data (2015-2024) \\xf0\\x9f\\x93\\x88        61KB  2024-12-04 10:57:49            892         22  0.88235295       '\n",
      "nadeemajeedch/employee-performance-and-salary-dataset       Employee Performance and Salary Dataset      215KB  2024-12-10 14:45:08           1192         56  0.8235294        \n",
      "muhammaddawood42/nvidia-stock-data                          NVIDIA-STOCK-DATA                             58KB  2024-12-10 12:22:01            594         27  1.0              \n",
      "mahmoudredagamail/the-worlds-500-most-powerful-businessmen  The 500 richest businessmen in the world      11KB  2024-12-12 06:30:02            866         22  0.64705884       \n",
      "mohitkumar282/used-car-dataset                              Used Car Dataset                             230KB  2024-11-24 09:14:58           4053         46  1.0              \n",
      "ikynahidwin/depression-student-dataset                      Depression Student Dataset                     4KB  2024-11-20 06:42:01           6176         89  1.0              \n"
     ]
    }
   ],
   "source": [
    "!kaggle datasets list\n"
   ]
  },
  {
   "cell_type": "code",
   "execution_count": 6,
   "id": "ccf65e1f-9612-418b-835e-657ae8c3c5db",
   "metadata": {},
   "outputs": [
    {
     "name": "stdout",
     "output_type": "stream",
     "text": [
      "403 - Forbidden - Permission 'datasets.get' was denied\n"
     ]
    }
   ],
   "source": [
    "!kaggle datasets download -d paramarthasengupta/plotly-eda-top-movies-of-20th-century"
   ]
  },
  {
   "cell_type": "code",
   "execution_count": 8,
   "id": "7ca2130e-d3bd-45f2-809a-cbae2c148ccd",
   "metadata": {},
   "outputs": [
    {
     "name": "stdout",
     "output_type": "stream",
     "text": [
      "ref                                                         title                                         size  lastUpdated          downloadCount  voteCount  usabilityRating  \n",
      "----------------------------------------------------------  -------------------------------------------  -----  -------------------  -------------  ---------  ---------------  \n",
      "bhadramohit/customer-shopping-latest-trends-dataset         Customer Shopping (Latest Trends) Dataset     76KB  2024-11-23 15:26:12          12899        249  1.0              \n",
      "b'denkuznetz/taxi-price-prediction                            Taxi Price Regression \\xf0\\x9f\\x9a\\x95                       20KB  2024-12-13 09:29:17           1281         32  1.0              '\n",
      "hopesb/student-depression-dataset                           Student Depression Dataset.                  454KB  2024-11-22 17:56:03           9561        126  1.0              \n",
      "gauthamvijayaraj/spotify-tracks-dataset-updated-every-week  Spotify Tracks Dataset (Updated every week)    5MB  2024-12-09 18:00:01           1720         35  1.0              \n",
      "mujtabamatin/air-quality-and-pollution-assessment           Air Quality and Pollution Assessment          84KB  2024-12-04 15:29:51           4572         81  1.0              \n",
      "b'denkuznetz/housing-prices-regression                        Housing Prices Regression \\xf0\\x9f\\x8f\\x98\\xef\\xb8\\x8f                  24KB  2024-12-10 15:44:34           1414         27  1.0              '\n",
      "malaiarasugraj/global-health-statistics                     Global Health Statistics                      44MB  2024-11-27 10:52:27           3982         47  1.0              \n",
      "steve1215rogg/student-lifestyle-dataset                     student lifestyle dataset                     22KB  2024-11-11 19:11:28          11837        157  1.0              \n",
      "qubdidata/auto-market-dataset                               Dataset For Car Price Prediction              10MB  2024-12-08 15:08:44           1311         31  1.0              \n",
      "zafarali27/netflix-movies-and-tv-shows                      Netflix Movies and TV Shows                   28KB  2024-11-23 07:53:10           3150         54  1.0              \n",
      "ashutosh598/shoes-price-for-various-brands                  Shoes price for various brands                32KB  2024-12-03 21:28:48           1340         25  1.0              \n",
      "srisaisuhassanisetty/fake-job-postings                      Fake Job Postings                            702KB  2024-12-02 23:32:56            753         23  0.9411765        \n",
      "steve1215rogg/e-commerce-dataset                            E-Commerce Dataset                            90KB  2024-11-22 22:10:02           4618         60  1.0              \n",
      "b'denkuznetz/traffic-accident-prediction                      Traffic Accident Prediction \\xf0\\x9f\\x92\\xa5\\xf0\\x9f\\x9a\\x97                10KB  2024-12-11 11:04:47            920         24  1.0              '\n",
      "b'itzusama/amazon-stock-market-data-2015-2024                 Amazon Stock Market Data (2015-2024) \\xf0\\x9f\\x93\\x88        61KB  2024-12-04 10:57:49            898         22  0.88235295       '\n",
      "nadeemajeedch/employee-performance-and-salary-dataset       Employee Performance and Salary Dataset      215KB  2024-12-10 14:45:08           1236         56  0.8235294        \n",
      "muhammaddawood42/nvidia-stock-data                          NVIDIA-STOCK-DATA                             58KB  2024-12-10 12:22:01            616         27  1.0              \n",
      "mahmoudredagamail/the-worlds-500-most-powerful-businessmen  The 500 richest businessmen in the world      11KB  2024-12-12 06:30:02            875         22  0.64705884       \n",
      "mohitkumar282/used-car-dataset                              Used Car Dataset                             230KB  2024-11-24 09:14:58           4091         46  1.0              \n",
      "ikynahidwin/depression-student-dataset                      Depression Student Dataset                     4KB  2024-11-20 06:42:01           6205         89  1.0              \n"
     ]
    }
   ],
   "source": [
    "!kaggle datasets list"
   ]
  },
  {
   "cell_type": "code",
   "execution_count": 10,
   "id": "3917b3dd-866b-4981-82d8-b3e30f8495a2",
   "metadata": {},
   "outputs": [
    {
     "name": "stdout",
     "output_type": "stream",
     "text": [
      "Dataset URL: https://www.kaggle.com/datasets/arthurchongg/imdb-top-1000-movies\n",
      "License(s): other\n",
      "Downloading imdb-top-1000-movies.zip to C:\\Users\\Kayle\n",
      "\n"
     ]
    },
    {
     "name": "stderr",
     "output_type": "stream",
     "text": [
      "\n",
      "  0%|          | 0.00/64.4k [00:00<?, ?B/s]\n",
      "100%|##########| 64.4k/64.4k [00:00<00:00, 1.68MB/s]\n"
     ]
    }
   ],
   "source": [
    "!kaggle datasets download -d arthurchongg/imdb-top-1000-movies"
   ]
  },
  {
   "cell_type": "code",
   "execution_count": 12,
   "id": "bc9096ce-b07d-40f6-9ee0-c71c41452e3d",
   "metadata": {},
   "outputs": [
    {
     "name": "stderr",
     "output_type": "stream",
     "text": [
      "'ls' is not recognized as an internal or external command,\n",
      "operable program or batch file.\n"
     ]
    }
   ],
   "source": [
    "!ls"
   ]
  },
  {
   "cell_type": "code",
   "execution_count": 14,
   "id": "e0dde834-ea4f-4eaa-843c-c5b5ec7c5b83",
   "metadata": {},
   "outputs": [
    {
     "name": "stdout",
     "output_type": "stream",
     "text": [
      " Volume in drive C has no label.\n",
      " Volume Serial Number is 34D8-CFCC\n",
      "\n",
      " Directory of C:\\Users\\Kayle\n",
      "\n",
      "12/16/2024  08:49 PM    <DIR>          .\n",
      "12/16/2024  08:49 PM    <DIR>          ..\n",
      "12/16/2024  10:05 AM    <DIR>          .anaconda\n",
      "12/16/2024  08:50 PM    <DIR>          .conda\n",
      "12/16/2024  09:43 AM               146 .condarc\n",
      "12/16/2024  09:43 AM    <DIR>          .continuum\n",
      "12/16/2024  10:29 AM    <DIR>          .ipynb_checkpoints\n",
      "12/16/2024  10:06 AM    <DIR>          .ipython\n",
      "12/16/2024  10:05 AM    <DIR>          .jupyter\n",
      "12/16/2024  10:21 AM    <DIR>          .kaggle\n",
      "12/16/2024  10:08 AM    <DIR>          .matplotlib\n",
      "11/30/2024  02:29 PM    <DIR>          .runelite\n",
      "11/15/2024  09:09 PM    <DIR>          3D Objects\n",
      "12/16/2024  09:58 AM    <DIR>          anaconda3\n",
      "11/16/2024  08:30 PM    <DIR>          ansel\n",
      "11/15/2024  09:09 PM    <DIR>          Contacts\n",
      "11/15/2024  09:11 PM    <DIR>          Documents\n",
      "12/16/2024  10:21 AM    <DIR>          Downloads\n",
      "11/15/2024  09:09 PM    <DIR>          Favorites\n",
      "07/08/2023  02:43 AM            65,990 imdb-top-1000-movies.zip\n",
      "11/15/2024  09:09 PM    <DIR>          Links\n",
      "11/15/2024  09:09 PM    <DIR>          Music\n",
      "12/14/2024  01:00 AM    <DIR>          OneDrive\n",
      "11/16/2024  08:25 PM    <DIR>          Saved Games\n",
      "11/15/2024  09:10 PM    <DIR>          Searches\n",
      "12/16/2024  10:29 AM             8,446 top movies\n",
      "12/16/2024  10:05 AM                72 Untitled.ipynb\n",
      "12/16/2024  08:48 PM            13,436 Untitled1.ipynb\n",
      "11/15/2024  09:20 PM    <DIR>          Videos\n",
      "               5 File(s)         88,090 bytes\n",
      "              24 Dir(s)  810,142,453,760 bytes free\n"
     ]
    }
   ],
   "source": [
    "!dir"
   ]
  },
  {
   "cell_type": "code",
   "execution_count": 39,
   "id": "80022df0-2761-438e-bfb6-6e0b1f7ed8f4",
   "metadata": {},
   "outputs": [],
   "source": [
    "import zipfile\n",
    "with zipfile.ZipFile(r'C:\\Users\\Kayle\\imdb-top-1000-movies.zip', 'r') as zip_ref:\n",
    "     zip_ref.extractall('imbd_data')"
   ]
  },
  {
   "cell_type": "code",
   "execution_count": 41,
   "id": "6eda5360-b0d0-4618-ac8a-445b9e0493cb",
   "metadata": {},
   "outputs": [
    {
     "name": "stdout",
     "output_type": "stream",
     "text": [
      " Volume in drive C has no label.\n",
      " Volume Serial Number is 34D8-CFCC\n",
      "\n",
      " Directory of C:\\Users\\Kayle\n",
      "\n"
     ]
    },
    {
     "name": "stderr",
     "output_type": "stream",
     "text": [
      "File Not Found\n"
     ]
    }
   ],
   "source": [
    "!dir imdb_data"
   ]
  },
  {
   "cell_type": "code",
   "execution_count": 43,
   "id": "1350be53-9dcd-4cd9-ad14-44cbe709d22a",
   "metadata": {},
   "outputs": [
    {
     "name": "stdout",
     "output_type": "stream",
     "text": [
      " Volume in drive C has no label.\n",
      " Volume Serial Number is 34D8-CFCC\n",
      "\n",
      " Directory of C:\\Users\\Kayle\n",
      "\n",
      "12/16/2024  09:00 PM    <DIR>          .\n",
      "12/16/2024  09:00 PM    <DIR>          ..\n",
      "12/16/2024  10:05 AM    <DIR>          .anaconda\n",
      "12/16/2024  09:01 PM    <DIR>          .conda\n",
      "12/16/2024  09:43 AM               146 .condarc\n",
      "12/16/2024  09:43 AM    <DIR>          .continuum\n",
      "12/16/2024  10:29 AM    <DIR>          .ipynb_checkpoints\n",
      "12/16/2024  10:06 AM    <DIR>          .ipython\n",
      "12/16/2024  10:05 AM    <DIR>          .jupyter\n",
      "12/16/2024  10:21 AM    <DIR>          .kaggle\n",
      "12/16/2024  10:08 AM    <DIR>          .matplotlib\n",
      "11/30/2024  02:29 PM    <DIR>          .runelite\n",
      "11/15/2024  09:09 PM    <DIR>          3D Objects\n",
      "12/16/2024  09:58 AM    <DIR>          anaconda3\n",
      "11/16/2024  08:30 PM    <DIR>          ansel\n",
      "11/15/2024  09:09 PM    <DIR>          Contacts\n",
      "11/15/2024  09:11 PM    <DIR>          Documents\n",
      "12/16/2024  10:21 AM    <DIR>          Downloads\n",
      "11/15/2024  09:09 PM    <DIR>          Favorites\n",
      "12/16/2024  08:59 PM    <DIR>          imbd_data\n",
      "07/08/2023  02:43 AM            65,990 imdb-top-1000-movies.zip\n",
      "11/15/2024  09:09 PM    <DIR>          Links\n",
      "11/15/2024  09:09 PM    <DIR>          Music\n",
      "12/14/2024  01:00 AM    <DIR>          OneDrive\n",
      "11/16/2024  08:25 PM    <DIR>          Saved Games\n",
      "11/15/2024  09:10 PM    <DIR>          Searches\n",
      "12/16/2024  10:29 AM             8,446 top movies\n",
      "12/16/2024  10:05 AM                72 Untitled.ipynb\n",
      "12/16/2024  09:00 PM            17,670 Untitled1.ipynb\n",
      "11/15/2024  09:20 PM    <DIR>          Videos\n",
      "               5 File(s)         92,324 bytes\n",
      "              25 Dir(s)  810,140,098,560 bytes free\n"
     ]
    }
   ],
   "source": [
    "!dir C:\\Users\\Kayle"
   ]
  },
  {
   "cell_type": "code",
   "execution_count": 78,
   "id": "8c04760b-cc63-4926-88f8-72223884c731",
   "metadata": {},
   "outputs": [
    {
     "name": "stdout",
     "output_type": "stream",
     "text": [
      "   Unnamed: 0                     title              director  release_year  \\\n",
      "0           0  The Shawshank Redemption        Frank Darabont          1994   \n",
      "1           1             The Godfather  Francis Ford Coppola          1972   \n",
      "2           1             The Godfather  Francis Ford Coppola          1972   \n",
      "3           2           The Dark Knight     Christopher Nolan          2008   \n",
      "4           2           The Dark Knight     Christopher Nolan          2008   \n",
      "\n",
      "   runtime   genre  rating  metascore  gross(M)  \n",
      "0      142   Drama     9.3         82     28.34  \n",
      "1      175   Crime     9.2        100    134.97  \n",
      "2      175   Drama     9.2        100    134.97  \n",
      "3      152  Action     9.0         84    534.86  \n",
      "4      152   Crime     9.0         84    534.86  \n"
     ]
    }
   ],
   "source": [
    "import pandas as pd\n",
    "\n",
    "data = pd.read_csv(r'C:\\Users\\Kayle\\imbd_data\\imdb_clean.csv')\n",
    "print(data.head())"
   ]
  },
  {
   "cell_type": "code",
   "execution_count": 86,
   "id": "298f0d48-0d8c-4a14-a124-01f45df03de3",
   "metadata": {
    "scrolled": true
   },
   "outputs": [
    {
     "name": "stdout",
     "output_type": "stream",
     "text": [
      "   Unnamed: 0                     title              director  release_year  \\\n",
      "0           0  The Shawshank Redemption        Frank Darabont          1994   \n",
      "1           1             The Godfather  Francis Ford Coppola          1972   \n",
      "2           1             The Godfather  Francis Ford Coppola          1972   \n",
      "3           2           The Dark Knight     Christopher Nolan          2008   \n",
      "4           2           The Dark Knight     Christopher Nolan          2008   \n",
      "\n",
      "   runtime   genre  rating  metascore  gross(M)  \n",
      "0      142   Drama     9.3         82     28.34  \n",
      "1      175   Crime     9.2        100    134.97  \n",
      "2      175   Drama     9.2        100    134.97  \n",
      "3      152  Action     9.0         84    534.86  \n",
      "4      152   Crime     9.0         84    534.86  \n",
      "<class 'pandas.core.frame.DataFrame'>\n",
      "RangeIndex: 2532 entries, 0 to 2531\n",
      "Data columns (total 9 columns):\n",
      " #   Column        Non-Null Count  Dtype  \n",
      "---  ------        --------------  -----  \n",
      " 0   Unnamed: 0    2532 non-null   int64  \n",
      " 1   title         2532 non-null   object \n",
      " 2   director      2532 non-null   object \n",
      " 3   release_year  2532 non-null   int64  \n",
      " 4   runtime       2532 non-null   int64  \n",
      " 5   genre         2532 non-null   object \n",
      " 6   rating        2532 non-null   float64\n",
      " 7   metascore     2532 non-null   int64  \n",
      " 8   gross(M)      2532 non-null   float64\n",
      "dtypes: float64(2), int64(4), object(3)\n",
      "memory usage: 178.2+ KB\n",
      "None\n",
      "        Unnamed: 0  release_year      runtime       rating    metascore  \\\n",
      "count  2532.000000   2532.000000  2532.000000  2532.000000  2532.000000   \n",
      "mean    501.339258   1992.215640   124.213665     7.966035    66.487362   \n",
      "std     289.372567     24.244151    28.910941     0.274246    30.519333   \n",
      "min       0.000000   1920.000000    45.000000     7.600000     0.000000   \n",
      "25%     248.000000   1976.000000   103.000000     7.800000    64.000000   \n",
      "50%     503.000000   2000.000000   120.000000     7.900000    76.000000   \n",
      "75%     749.000000   2011.000000   139.000000     8.100000    86.000000   \n",
      "max     999.000000   2023.000000   321.000000     9.300000   100.000000   \n",
      "\n",
      "          gross(M)  \n",
      "count  2532.000000  \n",
      "mean     61.656303  \n",
      "std     113.390273  \n",
      "min       0.000000  \n",
      "25%       0.280000  \n",
      "50%      10.730000  \n",
      "75%      68.105000  \n",
      "max     936.660000  \n",
      "Unnamed: 0      0\n",
      "title           0\n",
      "director        0\n",
      "release_year    0\n",
      "runtime         0\n",
      "genre           0\n",
      "rating          0\n",
      "metascore       0\n",
      "gross(M)        0\n",
      "dtype: int64\n"
     ]
    }
   ],
   "source": [
    "#display first 5 rows \n",
    "print(data.head())\n",
    "\n",
    "#checking overall structure\n",
    "print(data.info())\n",
    "\n",
    "#summerizing numerical columns\n",
    "print(data.describe())\n",
    "\n",
    "#check for missing values\n",
    "print(data.isnull().sum())"
   ]
  },
  {
   "cell_type": "code",
   "execution_count": 92,
   "id": "7535e1be-c13a-482f-aa05-89138fd00483",
   "metadata": {},
   "outputs": [
    {
     "name": "stdout",
     "output_type": "stream",
     "text": [
      "                      title              director  release_year  runtime  \\\n",
      "0  The Shawshank Redemption        Frank Darabont          1994      142   \n",
      "1             The Godfather  Francis Ford Coppola          1972      175   \n",
      "2             The Godfather  Francis Ford Coppola          1972      175   \n",
      "3           The Dark Knight     Christopher Nolan          2008      152   \n",
      "4           The Dark Knight     Christopher Nolan          2008      152   \n",
      "\n",
      "    genre  rating  metascore  gross(M)  \n",
      "0   Drama     9.3         82     28.34  \n",
      "1   Crime     9.2        100    134.97  \n",
      "2   Drama     9.2        100    134.97  \n",
      "3  Action     9.0         84    534.86  \n",
      "4   Crime     9.0         84    534.86  \n"
     ]
    }
   ],
   "source": [
    "data = data.drop(columns=['Unnamed: 0'])\n",
    "print(data.head())"
   ]
  },
  {
   "cell_type": "code",
   "execution_count": 94,
   "id": "77e31f13-5690-4479-b679-da49cbcf0b77",
   "metadata": {},
   "outputs": [
    {
     "name": "stdout",
     "output_type": "stream",
     "text": [
      "Number of duplicate rows: 0\n"
     ]
    }
   ],
   "source": [
    "print(\"Number of duplicate rows:\", data.duplicated().sum())"
   ]
  },
  {
   "cell_type": "code",
   "execution_count": 98,
   "id": "c5f2dd38-3e0c-4fef-bee1-c75b325ed48d",
   "metadata": {},
   "outputs": [],
   "source": [
    "data = data.drop_duplicates().reset_index(drop=True)"
   ]
  },
  {
   "cell_type": "code",
   "execution_count": 100,
   "id": "c1cdb6f2-0e6c-46e6-b39e-2f195d6ce23e",
   "metadata": {},
   "outputs": [
    {
     "name": "stdout",
     "output_type": "stream",
     "text": [
      "<class 'pandas.core.frame.DataFrame'>\n",
      "RangeIndex: 2532 entries, 0 to 2531\n",
      "Data columns (total 8 columns):\n",
      " #   Column        Non-Null Count  Dtype  \n",
      "---  ------        --------------  -----  \n",
      " 0   title         2532 non-null   object \n",
      " 1   director      2532 non-null   object \n",
      " 2   release_year  2532 non-null   int64  \n",
      " 3   runtime       2532 non-null   int64  \n",
      " 4   genre         2532 non-null   object \n",
      " 5   rating        2532 non-null   float64\n",
      " 6   metascore     2532 non-null   int64  \n",
      " 7   gross(M)      2532 non-null   float64\n",
      "dtypes: float64(2), int64(3), object(3)\n",
      "memory usage: 158.4+ KB\n",
      "None\n",
      "       release_year      runtime       rating    metascore     gross(M)\n",
      "count   2532.000000  2532.000000  2532.000000  2532.000000  2532.000000\n",
      "mean    1992.215640   124.213665     7.966035    66.487362    61.656303\n",
      "std       24.244151    28.910941     0.274246    30.519333   113.390273\n",
      "min     1920.000000    45.000000     7.600000     0.000000     0.000000\n",
      "25%     1976.000000   103.000000     7.800000    64.000000     0.280000\n",
      "50%     2000.000000   120.000000     7.900000    76.000000    10.730000\n",
      "75%     2011.000000   139.000000     8.100000    86.000000    68.105000\n",
      "max     2023.000000   321.000000     9.300000   100.000000   936.660000\n"
     ]
    }
   ],
   "source": [
    "print(data.info())\n",
    "print(data.describe())"
   ]
  },
  {
   "cell_type": "code",
   "execution_count": 104,
   "id": "83995463-affc-419a-ae75-bb5c591cca1f",
   "metadata": {},
   "outputs": [
    {
     "name": "stdout",
     "output_type": "stream",
     "text": [
      "                                            title  gross(M)  release_year  \\\n",
      "0                        The Shawshank Redemption     28.34          1994   \n",
      "2                                   The Godfather    134.97          1972   \n",
      "1                                   The Godfather    134.97          1972   \n",
      "9                                    12 Angry Men      4.36          1957   \n",
      "14                          The Godfather Part II     57.30          1974   \n",
      "13  The Lord of the Rings: The Return of the King    377.85          2003   \n",
      "12  The Lord of the Rings: The Return of the King    377.85          2003   \n",
      "11  The Lord of the Rings: The Return of the King    377.85          2003   \n",
      "10                                   12 Angry Men      4.36          1957   \n",
      "15                          The Godfather Part II     57.30          1974   \n",
      "\n",
      "                director  \n",
      "0         Frank Darabont  \n",
      "2   Francis Ford Coppola  \n",
      "1   Francis Ford Coppola  \n",
      "9           Sidney Lumet  \n",
      "14  Francis Ford Coppola  \n",
      "13         Peter Jackson  \n",
      "12         Peter Jackson  \n",
      "11         Peter Jackson  \n",
      "10          Sidney Lumet  \n",
      "15  Francis Ford Coppola  \n"
     ]
    }
   ],
   "source": [
    "top_rated_movies = data.sort_values(by ='rating', ascending=False).head(10)\n",
    "print(top_rated_movies[['title', 'gross(M)', 'release_year', 'director']])"
   ]
  },
  {
   "cell_type": "code",
   "execution_count": 128,
   "id": "6a552721-6147-45e5-92d3-1cecdadf7208",
   "metadata": {},
   "outputs": [
    {
     "name": "stdout",
     "output_type": "stream",
     "text": [
      "                      title              director  release_year  runtime  \\\n",
      "0  The Shawshank Redemption        Frank Darabont          1994      142   \n",
      "1             The Godfather  Francis Ford Coppola          1972      175   \n",
      "2             The Godfather  Francis Ford Coppola          1972      175   \n",
      "3           The Dark Knight     Christopher Nolan          2008      152   \n",
      "4           The Dark Knight     Christopher Nolan          2008      152   \n",
      "\n",
      "    genre  rating  metascore  gross(M)  \n",
      "0   Drama     9.3         82     28.34  \n",
      "1   Crime     9.2        100    134.97  \n",
      "2   Drama     9.2        100    134.97  \n",
      "3  Action     9.0         84    534.86  \n",
      "4   Crime     9.0         84    534.86  \n"
     ]
    }
   ],
   "source": [
    "print(data.head())"
   ]
  },
  {
   "cell_type": "code",
   "execution_count": 5,
   "id": "925780cc-3b02-4265-8a3c-3c439d8bc82b",
   "metadata": {},
   "outputs": [],
   "source": [
    "import pandas as pd\n",
    "import matplotlib.pyplot as plt\n",
    "import seaborn as sns"
   ]
  },
  {
   "cell_type": "code",
   "execution_count": 23,
   "id": "7a7a6855-10b6-4398-a85c-a2abe431cd0f",
   "metadata": {},
   "outputs": [],
   "source": [
    "data = pd.read_csv(r'C:\\Users\\Kayle\\imbd_data\\imdb_clean.csv')"
   ]
  },
  {
   "cell_type": "code",
   "execution_count": 25,
   "id": "f7c8c041-95ea-4da0-acea-3b7d10dea13e",
   "metadata": {},
   "outputs": [
    {
     "name": "stdout",
     "output_type": "stream",
     "text": [
      "                      title              director  release_year  runtime  \\\n",
      "0  The Shawshank Redemption        Frank Darabont          1994      142   \n",
      "1             The Godfather  Francis Ford Coppola          1972      175   \n",
      "2             The Godfather  Francis Ford Coppola          1972      175   \n",
      "3           The Dark Knight     Christopher Nolan          2008      152   \n",
      "4           The Dark Knight     Christopher Nolan          2008      152   \n",
      "\n",
      "    genre  rating  metascore  gross(M)  \n",
      "0   Drama     9.3         82     28.34  \n",
      "1   Crime     9.2        100    134.97  \n",
      "2   Drama     9.2        100    134.97  \n",
      "3  Action     9.0         84    534.86  \n",
      "4   Crime     9.0         84    534.86  \n"
     ]
    }
   ],
   "source": [
    "data = data.drop(columns=['Unnamed: 0'])\n",
    "print(data.head())"
   ]
  },
  {
   "cell_type": "code",
   "execution_count": 31,
   "id": "dc0e8936-1520-4b75-bc84-84176de5547b",
   "metadata": {},
   "outputs": [
    {
     "data": {
      "image/png": "[encoded data removed]",
      "text/plain": [
       "<Figure size 1000x600 with 1 Axes>"
      ]
     },
     "metadata": {},
     "output_type": "display_data"
    }
   ],
   "source": [
    "import matplotlib.pyplot as plt\n",
    "import seaborn as sns\n",
    "\n",
    "\n",
    "plt.figure(figsize=(10, 6))\n",
    "sns.histplot(data['rating'], bins=20, kde=True, color='pink')\n",
    "plt.title('Distribution of Movie Ratings')\n",
    "plt.xlabel('Rating')\n",
    "plt.ylabel('Frequency')\n",
    "\n",
    "\n",
    "plt.savefig('movie_ratings_distribution.png', dpi=300)\n",
    "\n",
    "\n",
    "plt.show()\n",
    "\n"
   ]
  },
  {
   "cell_type": "code",
   "execution_count": null,
   "id": "b1c4091f-cf8c-41f2-ab86-2306b8f9c822",
   "metadata": {},
   "outputs": [],
   "source": []
  }
 ],
 "metadata": {
  "kernelspec": {
   "display_name": "Python [conda env:base] *",
   "language": "python",
   "name": "conda-base-py"
  },
  "language_info": {
   "codemirror_mode": {
    "name": "ipython",
    "version": 3
   },
   "file_extension": ".py",
   "mimetype": "text/x-python",
   "name": "python",
   "nbconvert_exporter": "python",
   "pygments_lexer": "ipython3",
   "version": "3.12.7"
  }
 },
 "nbformat": 4,
 "nbformat_minor": 5
}
